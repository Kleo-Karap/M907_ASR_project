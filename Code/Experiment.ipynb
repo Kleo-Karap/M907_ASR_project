{
 "cells": [
  {
   "cell_type": "code",
   "execution_count": 2,
   "id": "c128f362",
   "metadata": {},
   "outputs": [],
   "source": [
    "from deepspeech import Model\n",
    "import numpy as np\n",
    "import os\n",
    "import wave\n",
    "import json\n",
    "from IPython.display import Audio\n",
    "import glob\n",
    "import re\n",
    "import pandas as pd"
   ]
  },
  {
   "cell_type": "code",
   "execution_count": 3,
   "id": "e5493264",
   "metadata": {},
   "outputs": [],
   "source": [
    "model_file_path = 'deepspeech-0.9.3-models.pbmm'\n",
    "lm_file_path = 'deepspeech-0.9.3-models.scorer'\n",
    "beam_width = 100\n",
    "lm_alpha = 0.75\n",
    "lm_beta = 2\n",
    "model = Model(model_file_path)\n",
    "model.enableExternalScorer(lm_file_path)"
   ]
  },
  {
   "cell_type": "code",
   "execution_count": 4,
   "id": "89dd4baa",
   "metadata": {},
   "outputs": [],
   "source": [
    "def read_wav_file(filename):\n",
    "    with wave.open(filename, 'rb') as w:\n",
    "        rate = w.getframerate()\n",
    "        frames = w.getnframes()\n",
    "        buffer = w.readframes(frames)\n",
    "        print(\"Rate:\", rate)\n",
    "        print(\"Frames:\", frames)\n",
    "        print(\"Buffer Len:\", len(buffer))\n",
    "\n",
    "    return buffer, rate\n",
    "\n",
    "def transcribe_batch(audio_file):\n",
    "    buffer, rate = read_wav_file(audio_file)\n",
    "    data16 = np.frombuffer(buffer, dtype=np.int16)\n",
    "    return model.stt(data16)"
   ]
  },
  {
   "cell_type": "code",
   "execution_count": 41,
   "id": "8251a37f",
   "metadata": {},
   "outputs": [
    {
     "name": "stdout",
     "output_type": "stream",
     "text": [
      "Rate: 16000\n",
      "Frames: 43200\n",
      "Buffer Len: 86400\n",
      "Rate: 16000\n",
      "Frames: 507200\n",
      "Buffer Len: 1014400\n",
      "Rate: 16000\n",
      "Frames: 367360\n",
      "Buffer Len: 734720\n",
      "Rate: 16000\n",
      "Frames: 195120\n",
      "Buffer Len: 390240\n",
      "Rate: 16000\n",
      "Frames: 140080\n",
      "Buffer Len: 280160\n"
     ]
    }
   ],
   "source": [
    "#This one works for the clean files better\n",
    "output_path =\"C:/Users/kleop/Documents/repos/Exercises/ASR_assignment/LibriSpeech/dev-clean-2/8842/transcripts/trans_clean_lm_beta.txt\"\n",
    "directory = 'C:/Users/kleop/Documents/repos/Exercises/ASR_assignment/LibriSpeech/dev-clean-2/8842/304647'\n",
    "with open(output_path, \"a\") as output_file:\n",
    "    for filename in glob.glob(os.path.join(directory, '*.wav')):\n",
    "        t = transcribe_batch(filename)\n",
    "        line_transcr = os.path.basename(filename)\n",
    "        line_transcr = os.path.splitext(line_transcr)[0]\n",
    "        line_transcr = line_transcr.replace('\\\\', '')\n",
    "        output_file.write(line_transcr + \" \" + t + \"\\n\")"
   ]
  },
  {
   "cell_type": "code",
   "execution_count": null,
   "id": "5526a75a",
   "metadata": {},
   "outputs": [],
   "source": []
  }
 ],
 "metadata": {
  "kernelspec": {
   "display_name": "Python 3 (ipykernel)",
   "language": "python",
   "name": "python3"
  },
  "language_info": {
   "codemirror_mode": {
    "name": "ipython",
    "version": 3
   },
   "file_extension": ".py",
   "mimetype": "text/x-python",
   "name": "python",
   "nbconvert_exporter": "python",
   "pygments_lexer": "ipython3",
   "version": "3.9.16"
  }
 },
 "nbformat": 4,
 "nbformat_minor": 5
}
